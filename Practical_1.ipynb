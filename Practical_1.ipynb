{
  "nbformat": 4,
  "nbformat_minor": 0,
  "metadata": {
    "colab": {
      "provenance": [],
      "collapsed_sections": [],
      "authorship_tag": "ABX9TyMyuGQSqCjPiRKH0xWAxzIu",
      "include_colab_link": true
    },
    "kernelspec": {
      "name": "python3",
      "display_name": "Python 3"
    },
    "language_info": {
      "name": "python"
    }
  },
  "cells": [
    {
      "cell_type": "markdown",
      "metadata": {
        "id": "view-in-github",
        "colab_type": "text"
      },
      "source": [
        "<a href=\"https://colab.research.google.com/github/kirenrajb/Dataset/blob/main/Practical_1.ipynb\" target=\"_parent\"><img src=\"https://colab.research.google.com/assets/colab-badge.svg\" alt=\"Open In Colab\"/></a>"
      ]
    },
    {
      "cell_type": "markdown",
      "source": [
        "##Section 1"
      ],
      "metadata": {
        "id": "Tht53-44rWJ3"
      }
    },
    {
      "cell_type": "code",
      "execution_count": null,
      "metadata": {
        "colab": {
          "base_uri": "https://localhost:8080/"
        },
        "id": "ScAwKuyPVwJD",
        "outputId": "6c47769d-d3d5-49f6-deea-83ba3c7ac832"
      },
      "outputs": [
        {
          "output_type": "stream",
          "name": "stdout",
          "text": [
            "[56286961, 5463300, 3152879, 1893667]\n",
            "\n",
            "0             England\n",
            "1            Scotland\n",
            "2               Wales\n",
            "3    Northern Ireland\n",
            "dtype: object\n",
            "\n",
            "            country       pop\n",
            "0           England  56286961\n",
            "1          Scotland   5463300\n",
            "2             Wales   3152879\n",
            "3  Northern Ireland   1893667\n",
            "\n",
            "   country       pop\n",
            "0  England  56286961\n",
            "\n",
            "            country\n",
            "0           England\n",
            "1          Scotland\n",
            "2             Wales\n",
            "3  Northern Ireland\n",
            "            country       pop\n",
            "0           England  56286961\n",
            "1          Scotland   5463300\n",
            "2             Wales   3152879\n",
            "3  Northern Ireland   1893667\n",
            "\n",
            "        pop\n",
            "0  56286961\n",
            "56286961\n",
            "\n",
            "            country      pop\n",
            "1          Scotland  5463300\n",
            "2             Wales  3152879\n",
            "3  Northern Ireland  1893667\n",
            "\n",
            "            country       pop\n",
            "3  Northern Ireland   1893667\n",
            "2             Wales   3152879\n",
            "1          Scotland   5463300\n",
            "0           England  56286961\n",
            "\n",
            "            country       pop\n",
            "0  Northern Ireland   1893667\n",
            "1             Wales   3152879\n",
            "2          Scotland   5463300\n",
            "3           England  56286961\n",
            "\n",
            "            country       pop\n",
            "3           England  56286961\n",
            "0  Northern Ireland   1893667\n",
            "2          Scotland   5463300\n",
            "1             Wales   3152879\n",
            "\n",
            "            country       pop\n",
            "0           England  56286961\n",
            "1  Northern Ireland   1893667\n",
            "2          Scotland   5463300\n",
            "3             Wales   3152879\n"
          ]
        }
      ],
      "source": [
        "import pandas as pd\n",
        "popList = [56286961, 5463300, 3152879, 1893667]\n",
        "\n",
        "print( popList )\n",
        "print()\n",
        "\n",
        "# LISTS AND SERIES\n",
        "# A Series in Pandas is very like a list. A list holds an ordered set of objects. A Series holds a labelled ordered set of objects. The labels may just be row numbers, or other \n",
        "# variables including strings. A Series is more similar to a dictionary than a list. If you do not provide an index for a series then Pandas creates a numeric integer index for \n",
        "# each item. \n",
        "\n",
        "# pandas Series is one dimensional indexed (labelled) array capable of holding any data type. Because of the labels it is more similar to a dictionary than a list.\n",
        "sr = pd.Series([\"England\", \"Scotland\", \"Wales\", \"Northern Ireland\"])\n",
        "print(sr)\n",
        "print()\n",
        "\n",
        "# DATAFRAME\n",
        "# Dataframe is 2D labelled array capable of holding any data type. To create a Dataframe, new columns can be added by giving the column name and a series or list. NB if using a \n",
        "# series the index must match\n",
        "# the Dataframe index for like rows to be matched to like rows. As shown here each column is given a name when it is created rows are auto-indexed by sequential integers. \n",
        "df = pd.DataFrame()\n",
        "df[\"country\"] = sr\n",
        "pop = pd.Series([56286961, 5463300, 3152879, 1893667])\n",
        "df[\"pop\"] = pop\n",
        "\n",
        "print(df)\n",
        "print()\n",
        "\n",
        "# ACCESS ELEMENTS FROM A DATAFRAME\n",
        "# The iloc method allows a range of indexing semantics to be adopted to access slices of a Dataframe. \n",
        "# The slice syntax in the first example [0:1] says start at row 0 and select all rows up to but not including row 1.\n",
        "# In the second example the same slice syntax is used to select a single column.\n",
        "# You can select all rows and columns, or just a contiguous subset of them using this approach. \n",
        "\n",
        "# Access a row(s)by integer index slide (range)\n",
        "print(df.iloc[0:1])\n",
        "print()\n",
        "\n",
        "# Access a column(s) by integer index location.\n",
        "print(df.iloc[:,0:1])\n",
        "print(df.iloc[:,:])\n",
        "print()\n",
        "\n",
        "# ACCESS SINGLE ELEMENTS, AND CONDITIONAL ROWS FROM A DATAFRAME\n",
        "# The slice notation will return a Dataframe or a Series.\n",
        "# If you directly index a single element you will just get back the single object stored there.\n",
        "# The conditional selection syntax allows rows to be selected based on a column value\n",
        "# This is one useful approach to filtering a Dataframe based on its contents.\n",
        "\n",
        "# Access a single element as an indexed dataframe or as a single value. Essentially [row,column]\n",
        "print(df.iloc[0:1,1:2])\n",
        "print(df.iloc[0,1])\n",
        "print()\n",
        "\n",
        "# Conditional access to a set of rows based on column values.  \n",
        "print(df [df[\"pop\"] < 50000000] )\n",
        "print()\n",
        "\n",
        "# SORTING THE ROWS IN A DATAFRAME BY A COLUMN VALUE, REINDEXING\n",
        "# Sorting the rows of a Dataframe is also a common operation. Note that it is usual to do this with inplace=True unless you need to create a separate new Dataframe. \n",
        "# Also note that the index is sorted as if it is a column of data so if you need an index in the sorted order, which is common, you need to reset_index the Dataframe as shown. \n",
        "\n",
        "# Commonly want to sort data frames by specific column values.\n",
        "df.sort_values(by = \"pop\", ascending = True, inplace = True)\n",
        "print(df)\n",
        "print()\n",
        "# Note we have changed the index.. this means we will not index by the newly sorted order, fix by reseting the index \n",
        "df.reset_index(drop = True, inplace = True)\n",
        "print(df)\n",
        "print()\n",
        "\n",
        "# SORTING THE ROWS IN A DATAFRAME BY A LEXICAL VALUE\n",
        "# Pandas will sort the objects using a method based on their type. \n",
        "# For strings this means a lexical order, this will almost never be a numeric order even if the strings represent numbers. \n",
        "# Watch output for alphanumeric labels as they often are not sorted how you expect.\n",
        "# This problem can happen if numbers are read as strings from a data file.\n",
        "# Don't forget to reset the index when needed.\n",
        "\n",
        "# Alpha-numeric sorting, will always be sorted lexically not numerically.  \n",
        "# This will almost never sorting numbers in numerical order.\n",
        "df.sort_values(by = \"country\", ascending = True, inplace = True)\n",
        "print(df)\n",
        "print()\n",
        "df.reset_index(drop = True, inplace = True)\n",
        "print(df)"
      ]
    },
    {
      "cell_type": "markdown",
      "source": [
        "# Section 2"
      ],
      "metadata": {
        "id": "KT-k61WlrXhL"
      }
    },
    {
      "cell_type": "code",
      "source": [
        "import pandas as pd\n",
        "import matplotlib.pyplot as plt\n",
        "\n",
        "# 1.) Read in a csv file to a pandaas dataframe\n",
        "inFName = \"https://raw.githubusercontent.com/kirenrajb/Dataset/main/sensors_NCL_UO_01%20(2).csv\"\n",
        "rawDf = pd.read_csv( inFName)\n",
        "\n",
        "# 2.) Adjust the column labels to be more concise, some tools struggle with spaces in column names.\n",
        "# 3.) Split the date into date and hour columns, note this needs to use datetime, we will come back to datetime representations in pandas soon.\n",
        "filtDf = pd.DataFrame()\n",
        "filtDf[\"sensorName\"] = rawDf[\"Sensor Name\"]  \n",
        "filtDf[\"variable\"] = rawDf[\"Variable\"]  \n",
        "filtDf[\"value\"] = rawDf[\"Value\"]  \n",
        "filtDf[\"units\"] = rawDf[\"Units\"]\n",
        "filtDf[\"groundHeight\"] = rawDf[\"Ground Height Above Sea Level\"]  \n",
        "filtDf[\"plusHeight\"] = rawDf[\"Sensor Height Above Ground\"]  \n",
        "filtDf[\"lat\"] = rawDf[\"Sensor Centroid Latitude\"] \n",
        "filtDf[\"lon\"] = rawDf[\"Sensor Centroid Longitude\"]  \n",
        "filtDf[\"datetime\"] = pd.to_datetime( rawDf.Timestamp )\n",
        "filtDf['date'] = filtDf['datetime'].dt.date\n",
        "filtDf['date'] = pd.to_datetime( filtDf.date )\n",
        "filtDf['hour'] = filtDf['datetime'].dt.hour\n",
        "\n",
        "# 4.) sate the wrangled file out to new csv file, wihtout saving the (often redundant) index column\n",
        "outFName = \"wrangled_NCL_UO_01.csv\"\n",
        "filtDf.to_csv( outFName, index = False)\n",
        "\n",
        "# Read in the wrangled sensor data, get a list of the unique sensor names, filter from the data so it only includes data from the first sensor in the list.\n",
        "inFName = \"wrangled_NCL_UO_01.csv\"\n",
        "wrangledDf = pd.read_csv(inFName)\n",
        "sensorList = wrangledDf.sensorName.unique()\n",
        "filtDf = wrangledDf[wrangledDf.sensorName == sensorList[0]]\n",
        "# Use groupby to aggregate data - in the case that we are asking for the mean temperature to be calculated for each hour of the day. (In the previous wrangling code \n",
        "# we extracted the hour for every row in the file)\n",
        "# Note: groupby will take the mean for all numeric values, and remove non-numeric columns from its output\n",
        "sensorDf = filtDf.groupby(filtDf.hour, as_index = False).mean()\n",
        "hours = sensorDf[\"hour\"]\n",
        "temperatures = sensorDf[\"value\"]\n",
        "aTitle = \"Mean Hourly Temperature on \" + \\\n",
        "          filtDf.date[0] + \\\n",
        "          \"\\nSensor : \" + filtDf.sensorName[0]\n",
        "\n",
        "# Now we can get lists of the hours of the day and mean temperatures for each hour of the day, ready to plot using the matplotlib calls shown.\n",
        "plt.plot(hours, temperatures)\n",
        "plt.ylim([0.0, temperatures.max() + 5])\n",
        "plt.title(aTitle, fontsize = 14)\n",
        "plt.xlabel('Hour', fontsize = 12)\n",
        "plt.ylabel(\"Temperature ( \" + filtDf.units[0] + \" )\", fontsize = 12)\n",
        "plt.grid(True)\n",
        "plt.show()\n"
      ],
      "metadata": {
        "id": "ivW1dLZH209f",
        "colab": {
          "base_uri": "https://localhost:8080/",
          "height": 316
        },
        "outputId": "bf4a707f-0854-4941-9faa-ef375eff8adf"
      },
      "execution_count": null,
      "outputs": [
        {
          "output_type": "display_data",
          "data": {
            "text/plain": [
              "<Figure size 432x288 with 1 Axes>"
            ],
            "image/png": "[encoded data removed]"
          },
          "metadata": {
            "needs_background": "light"
          }
        }
      ]
    },
    {
      "cell_type": "code",
      "source": [],
      "metadata": {
        "id": "m9-0a7BTHAgQ"
      },
      "execution_count": null,
      "outputs": []
    },
    {
      "cell_type": "markdown",
      "source": [
        "# Section 3"
      ],
      "metadata": {
        "id": "72oWEn86rYQ8"
      }
    },
    {
      "cell_type": "code",
      "source": [
        "# THE DATETIME MODULE\n",
        "# The datetime module handles both dates and times in an object oriented way. \n",
        "# - The code in next slide illustrates getting the time for now from the module and then \n",
        "# printing it out or printing out sub-components. \n",
        "# - Notice that the time is measured to millionths of a second and you can use it to time the \n",
        "# real time compute time for longer running pieces of code. \n",
        "# - The components of a date time object can be accessed individually as shown. \n",
        "# - Note that: Weekday is a numeric code for day of the week. \n",
        "\n",
        "from datetime import datetime\n",
        "import pandas as pd\n",
        "rightNow = datetime.now()\n",
        "\n",
        "# Components of datetime\n",
        "print( rightNow ) #\n",
        "print( rightNow.year ) \n",
        "print( rightNow.month ) \n",
        "print( rightNow.day )\n",
        "print( rightNow.weekday() ) \n",
        "print( rightNow.hour ) \n",
        "print( rightNow.minute ) \n",
        "print( rightNow.second )\n",
        "print()\n",
        "# When dates are read from a csv file may be stored as text strings, sometimes as numbers. \n",
        "# Converting to datetime objects allows sorting and arithmetic to work correctly\n",
        "\n",
        "# WRITING DATES TO CSV FILES\n",
        "# - When working with pandas dataframes it is common to store them in text formats such as csv files. \n",
        "# - Here we create a dataframe from two lists, one of date values and one of numeric values. \n",
        "# - Because the dates are object we can do arithmetic on them to find, for example, how many days they are apart. \n",
        "# - We then save the dataframe to a csv file, at this point the datetime objects are automatically converted to a text representation. \n",
        "dateNow = rightNow.date()\n",
        "dateList = pd.date_range(dateNow, periods = 10).tolist()\n",
        "valueList = range ( 10 ) # creates a DataFrame from a list of dates and a list of values\n",
        "\n",
        "df = pd.DataFrame()\n",
        "df[\"date\"] = dateList\n",
        "df[\"value\"] = valueList\n",
        "\n",
        "print(df[\"date\"][5] - df[\"date\"][0]) # Check we can work with the dates as expected\n",
        "\n",
        "df.to_csv(\"testData.csv\", index = False)\n",
        "\n",
        "# READING DATES FROM A CSV FILE\n",
        "# Read in the DataFrame from the csv file we just saved out.\n",
        "inDf = pd.read_csv(\"testData.csv\") \n",
        "# Check we can work with the dates as expected. (This fails)\n",
        "# print( inDf[\"date\"][0] - inDf[\"date\"][5] )\n",
        "\n",
        "# Convert the date column to datetime objects.\n",
        "inDf['date'] = pd.to_datetime(inDf['date'])\n",
        "\n",
        "print( inDf[\"date\"][0] - inDf[\"date\"][5] )\n",
        "print()\n",
        "\n",
        "# FORMATTING DATETIME AS STRINGS\n",
        "# - The example on next page starts with a date as a string and demonstrates how to use: \n",
        "#       .strptime() to convert to a datetime object.\n",
        "# - Note the format string must match exactly the date strings . \n",
        "# - Converting a string to a datetime object can need some care – watch out for date order issues:\n",
        "#       by default python assumes mm-dd-yyy not the UK dd-mm-yyyy\n",
        "# - One option is to use YYYY-MM-DD as this tends to be more consistent globally, and is an ISO standard for date formatting. \n",
        "print( rightNow )\n",
        "# Formatted printing : https://docs.python.org/3/library/datetime.html     -- TRY DIFFERENT WAYS OF FORMATTING THE DATETIME VARIABLE\n",
        "# Many options for converting a datetime value to a string, works for dates and time, see website\n",
        "dateAsString = rightNow.strftime(\"%d/%m/%Y\")\n",
        "print( dateAsString )\n",
        "\n",
        "dateAsString = rightNow.strftime(\"%A %d %B %Y\")\n",
        "print( dateAsString )\n",
        "print()\n",
        "\n",
        "# .strftime( fmtString ) Is a method that takes a formatting string and uses that output the required datetime object in the format given, for example: \n",
        "#       %d - is numeric day of the month.       %A – is text for the day of the week Monday to Sunday. \n",
        "\n",
        "#CONVERTING STRINGS TO DATETIME\n",
        "dateString = \"05/07/2021\"\n",
        "\n",
        "dateObject = datetime.strptime(dateString, \"%d/%m/%Y\")\n",
        "print(dateObject)\n",
        "\n",
        "dateString = \"05/07/2021 12:31:00\"\n",
        "dateObject = datetime.strptime(dateString, \"%d/%m/%Y %H:%M:%S\")\n",
        "# NB format needs to match exactly\n",
        "print( dateObject )\n",
        "\n",
        "# Converting a string to a datetime object can need some care – watch out for date order issues.\n",
        "# One default is to be in the habit of using %Y-%m-%d as this tends to be more consistent globally\n",
        "\n",
        "\n",
        "\n",
        "\n"
      ],
      "metadata": {
        "id": "hYjHe0B6LSGU",
        "colab": {
          "base_uri": "https://localhost:8080/"
        },
        "outputId": "b9075337-8097-4270-b83b-2ee7ed08912c"
      },
      "execution_count": null,
      "outputs": [
        {
          "output_type": "stream",
          "name": "stdout",
          "text": [
            "2022-11-13 05:10:43.077421\n",
            "2022\n",
            "11\n",
            "13\n",
            "6\n",
            "5\n",
            "10\n",
            "43\n",
            "\n",
            "5 days 00:00:00\n",
            "-5 days +00:00:00\n",
            "\n",
            "2022-11-13 05:10:43.077421\n",
            "13/11/2022\n",
            "Sunday 13 November 2022\n",
            "\n",
            "2021-07-05 00:00:00\n",
            "2021-07-05 12:31:00\n"
          ]
        }
      ]
    },
    {
      "cell_type": "code",
      "source": [],
      "metadata": {
        "id": "oVdnHF0HSnSt"
      },
      "execution_count": null,
      "outputs": []
    }
  ]
}